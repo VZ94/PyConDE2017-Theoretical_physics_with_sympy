{
 "cells": [
  {
   "cell_type": "markdown",
   "metadata": {},
   "source": [
    "# Theoretical physics with sympy\n",
    "## Florian Thöle, Materials Theory at ETH Zurich\n",
    "## Twitter: @florian_thl | Mail: florian.thoele@mat.ethz.ch"
   ]
  },
  {
   "cell_type": "markdown",
   "metadata": {},
   "source": [
    "## Intro"
   ]
  },
  {
   "cell_type": "markdown",
   "metadata": {},
   "source": [
    "Sometimes it's good to be able to derive results on a blackboard, sometimes symbolic computing can make your life a lot easier."
   ]
  },
  {
   "cell_type": "markdown",
   "metadata": {},
   "source": [
    "## The program\n",
    "- Ca. 10 minutes introduction into the basic features I'll need later\n",
    "- Spend the rest of the time explaining an example of 2D magnetism\n",
    "\n",
    "### What this talk is...\n",
    "- A lighthearted introduction to sympy\n",
    "\n",
    "### What this talk is not...\n",
    "- A research talk on theoretical physics\n",
    "- A description of the sympy.physics module"
   ]
  },
  {
   "cell_type": "markdown",
   "metadata": {},
   "source": [
    "## Setup for sympy printing"
   ]
  },
  {
   "cell_type": "markdown",
   "metadata": {},
   "source": [
    "Printing with Latex is a bit slower, but looks nice for presentation purposes."
   ]
  },
  {
   "cell_type": "code",
   "execution_count": 1,
   "metadata": {
    "collapsed": true
   },
   "outputs": [],
   "source": [
    "from sympy import init_printing, pprint\n",
    "init_printing(use_unicode=True, use_latex=True)"
   ]
  },
  {
   "cell_type": "markdown",
   "metadata": {},
   "source": [
    "## Variables - mathematica vs python"
   ]
  },
  {
   "cell_type": "markdown",
   "metadata": {},
   "source": [
    "In Mathematica, syntax highlighting tells us the difference between a mathematic symbol, a variable which was defined before, and a local variable in a function."
   ]
  },
  {
   "cell_type": "markdown",
   "metadata": {},
   "source": [
    "![title](Mathematica_variables.png)"
   ]
  },
  {
   "cell_type": "markdown",
   "metadata": {},
   "source": [
    "In python, this distinction does not exist in the language itself, so we have to define each mathematical symbol we want to use."
   ]
  },
  {
   "cell_type": "markdown",
   "metadata": {},
   "source": [
    "### Symbols"
   ]
  },
  {
   "cell_type": "code",
   "execution_count": 2,
   "metadata": {
    "collapsed": true
   },
   "outputs": [],
   "source": [
    "from sympy import symbols, sympify, S, sqrt"
   ]
  },
  {
   "cell_type": "code",
   "execution_count": 3,
   "metadata": {
    "collapsed": true
   },
   "outputs": [],
   "source": [
    "x = symbols(\"x\")"
   ]
  },
  {
   "cell_type": "code",
   "execution_count": 4,
   "metadata": {},
   "outputs": [
    {
     "data": {
      "image/png": "[encoded data removed]",
      "text/latex": [
       "$$x$$"
      ],
      "text/plain": [
       "x"
      ]
     },
     "execution_count": 4,
     "metadata": {},
     "output_type": "execute_result"
    }
   ],
   "source": [
    "x"
   ]
  },
  {
   "cell_type": "code",
   "execution_count": 5,
   "metadata": {},
   "outputs": [
    {
     "data": {
      "text/plain": [
       "sympy.core.symbol.Symbol"
      ]
     },
     "execution_count": 5,
     "metadata": {},
     "output_type": "execute_result"
    }
   ],
   "source": [
    "type(x)"
   ]
  },
  {
   "cell_type": "code",
   "execution_count": 6,
   "metadata": {
    "collapsed": true
   },
   "outputs": [],
   "source": [
    "a, b, c, y, z = symbols(\"a b c y z\", real=True)"
   ]
  },
  {
   "cell_type": "markdown",
   "metadata": {},
   "source": [
    "The assumptions on the symbols are used in evaluating expressions:"
   ]
  },
  {
   "cell_type": "code",
   "execution_count": 7,
   "metadata": {},
   "outputs": [
    {
     "data": {
      "image/png": "[encoded data removed]",
      "text/latex": [
       "$$\\left ( \\sqrt{x^{2}}, \\quad \\left|{a}\\right|\\right )$$"
      ],
      "text/plain": [
       "⎛   ____     ⎞\n",
       "⎜  ╱  2      ⎟\n",
       "⎝╲╱  x  , │a│⎠"
      ]
     },
     "execution_count": 7,
     "metadata": {},
     "output_type": "execute_result"
    }
   ],
   "source": [
    "sqrt(x**2), sqrt(a**2)"
   ]
  },
  {
   "cell_type": "markdown",
   "metadata": {},
   "source": [
    "### sympify"
   ]
  },
  {
   "cell_type": "markdown",
   "metadata": {},
   "source": [
    "The python-internal data types int and float are different from sympys internal int and float types.\n",
    "\n",
    "sympify can be used to convert a python type to a sympy type."
   ]
  },
  {
   "cell_type": "code",
   "execution_count": 8,
   "metadata": {},
   "outputs": [
    {
     "data": {
      "text/plain": [
       "int"
      ]
     },
     "execution_count": 8,
     "metadata": {},
     "output_type": "execute_result"
    }
   ],
   "source": [
    "type(3)"
   ]
  },
  {
   "cell_type": "code",
   "execution_count": 9,
   "metadata": {},
   "outputs": [
    {
     "data": {
      "text/plain": [
       "sympy.core.numbers.Integer"
      ]
     },
     "execution_count": 9,
     "metadata": {},
     "output_type": "execute_result"
    }
   ],
   "source": [
    "type(sympify(3))"
   ]
  },
  {
   "cell_type": "code",
   "execution_count": 10,
   "metadata": {},
   "outputs": [
    {
     "data": {
      "image/png": "[encoded data removed]",
      "text/latex": [
       "$$0.3333333333333333$$"
      ],
      "text/plain": [
       "0.3333333333333333"
      ]
     },
     "execution_count": 10,
     "metadata": {},
     "output_type": "execute_result"
    }
   ],
   "source": [
    "1/3"
   ]
  },
  {
   "cell_type": "code",
   "execution_count": 11,
   "metadata": {},
   "outputs": [
    {
     "data": {
      "image/png": "[encoded data removed]",
      "text/latex": [
       "$$\\frac{1}{3}$$"
      ],
      "text/plain": [
       "1/3"
      ]
     },
     "execution_count": 11,
     "metadata": {},
     "output_type": "execute_result"
    }
   ],
   "source": [
    "sympify(1)/3"
   ]
  },
  {
   "cell_type": "code",
   "execution_count": 12,
   "metadata": {},
   "outputs": [
    {
     "data": {
      "text/plain": [
       "sympy.core.numbers.Rational"
      ]
     },
     "execution_count": 12,
     "metadata": {},
     "output_type": "execute_result"
    }
   ],
   "source": [
    "type(sympify(1)/3)"
   ]
  },
  {
   "cell_type": "markdown",
   "metadata": {},
   "source": [
    "sympify can also be used to convert strings into sympy expressions:"
   ]
  },
  {
   "cell_type": "code",
   "execution_count": 13,
   "metadata": {},
   "outputs": [
    {
     "data": {
      "image/png": "[encoded data removed]",
      "text/latex": [
       "$$3 x^{2} + 2 x + 4$$"
      ],
      "text/plain": [
       "   2          \n",
       "3⋅x  + 2⋅x + 4"
      ]
     },
     "execution_count": 13,
     "metadata": {},
     "output_type": "execute_result"
    }
   ],
   "source": [
    "expr = sympify(\"3*x**2 + 2*x + 4\"); \n",
    "expr"
   ]
  },
  {
   "cell_type": "code",
   "execution_count": 14,
   "metadata": {},
   "outputs": [
    {
     "data": {
      "image/png": "[encoded data removed]",
      "text/latex": [
       "$$20$$"
      ],
      "text/plain": [
       "20"
      ]
     },
     "execution_count": 14,
     "metadata": {},
     "output_type": "execute_result"
    }
   ],
   "source": [
    "expr.subs(x, 2)"
   ]
  },
  {
   "cell_type": "markdown",
   "metadata": {},
   "source": [
    "### Functions"
   ]
  },
  {
   "cell_type": "markdown",
   "metadata": {},
   "source": [
    "Special functions are able to work with symbolic variables."
   ]
  },
  {
   "cell_type": "code",
   "execution_count": 15,
   "metadata": {
    "collapsed": true
   },
   "outputs": [],
   "source": [
    "from sympy import sin, cos, exp, log, sqrt, Ynm\n",
    "from sympy import pi, N"
   ]
  },
  {
   "cell_type": "code",
   "execution_count": 16,
   "metadata": {},
   "outputs": [
    {
     "data": {
      "image/png": "[encoded data removed]",
      "text/latex": [
       "$$\\sin{\\left (x + y \\right )}$$"
      ],
      "text/plain": [
       "sin(x + y)"
      ]
     },
     "execution_count": 16,
     "metadata": {},
     "output_type": "execute_result"
    }
   ],
   "source": [
    "sin(x + y)"
   ]
  },
  {
   "cell_type": "code",
   "execution_count": 17,
   "metadata": {},
   "outputs": [
    {
     "data": {
      "image/png": "[encoded data removed]",
      "text/latex": [
       "$$\\left ( 1, \\quad \\frac{\\sqrt{2}}{2}, \\quad \\frac{\\sqrt{2}}{2}\\right )$$"
      ],
      "text/plain": [
       "⎛   √2  √2⎞\n",
       "⎜1, ──, ──⎟\n",
       "⎝   2   2 ⎠"
      ]
     },
     "execution_count": 17,
     "metadata": {},
     "output_type": "execute_result"
    }
   ],
   "source": [
    "sin(pi/2), sin(45*pi/180), sin(0.25*pi)"
   ]
  },
  {
   "cell_type": "code",
   "execution_count": 18,
   "metadata": {},
   "outputs": [
    {
     "data": {
      "text/plain": [
       "sympy.core.numbers.Pi"
      ]
     },
     "execution_count": 18,
     "metadata": {},
     "output_type": "execute_result"
    }
   ],
   "source": [
    "type(pi)"
   ]
  },
  {
   "cell_type": "code",
   "execution_count": 19,
   "metadata": {},
   "outputs": [
    {
     "data": {
      "image/png": "[encoded data removed]",
      "text/latex": [
       "$$x$$"
      ],
      "text/plain": [
       "x"
      ]
     },
     "execution_count": 19,
     "metadata": {},
     "output_type": "execute_result"
    }
   ],
   "source": [
    "exp(log(x))"
   ]
  },
  {
   "cell_type": "code",
   "execution_count": 20,
   "metadata": {},
   "outputs": [
    {
     "data": {
      "image/png": "[encoded data removed]",
      "text/latex": [
       "$$e^{- 4 i \\phi} Y_{2}^{2}\\left(\\theta,\\phi\\right)$$"
      ],
      "text/plain": [
       " -4⋅ⅈ⋅φ                \n",
       "ℯ      ⋅Ynm(2, 2, θ, φ)"
      ]
     },
     "execution_count": 20,
     "metadata": {},
     "output_type": "execute_result"
    }
   ],
   "source": [
    "n = 2\n",
    "m = -2\n",
    "theta, phi = symbols(\"theta phi\")\n",
    "sph = Ynm(n, m, theta, phi)\n",
    "sph"
   ]
  },
  {
   "cell_type": "markdown",
   "metadata": {},
   "source": [
    "Functions are treated as symbolic even with numerical arguments. Use N() to evaluate the function."
   ]
  },
  {
   "cell_type": "code",
   "execution_count": 21,
   "metadata": {},
   "outputs": [
    {
     "data": {
      "image/png": "[encoded data removed]",
      "text/latex": [
       "$$\\left ( Y_{2}^{2}\\left(\\frac{\\pi}{2},\\frac{\\pi}{2}\\right), \\quad -0.38627420202319 + 4.41989521960429 \\cdot 10^{-18} i\\right )$$"
      ],
      "text/plain": [
       "⎛   ⎛      π  π⎞                                            ⎞\n",
       "⎜Ynm⎜2, 2, ─, ─⎟, -0.38627420202319 + 4.41989521960429e-18⋅ⅈ⎟\n",
       "⎝   ⎝      2  2⎠                                            ⎠"
      ]
     },
     "execution_count": 21,
     "metadata": {},
     "output_type": "execute_result"
    }
   ],
   "source": [
    "Ynm(n, m, pi/2, pi/2), N(Ynm(n, m, pi/2, pi/2))"
   ]
  },
  {
   "cell_type": "markdown",
   "metadata": {},
   "source": [
    "#### Differentiating"
   ]
  },
  {
   "cell_type": "code",
   "execution_count": 22,
   "metadata": {
    "collapsed": true
   },
   "outputs": [],
   "source": [
    "from sympy import diff"
   ]
  },
  {
   "cell_type": "code",
   "execution_count": 23,
   "metadata": {},
   "outputs": [
    {
     "data": {
      "image/png": "[encoded data removed]",
      "text/latex": [
       "$$2 a \\left(a x + b y\\right)$$"
      ],
      "text/plain": [
       "2⋅a⋅(a⋅x + b⋅y)"
      ]
     },
     "execution_count": 23,
     "metadata": {},
     "output_type": "execute_result"
    }
   ],
   "source": [
    "diff((a*x + b*y)**2, x)"
   ]
  },
  {
   "cell_type": "code",
   "execution_count": 24,
   "metadata": {},
   "outputs": [
    {
     "data": {
      "image/png": "[encoded data removed]",
      "text/latex": [
       "$$\\left(b^{2} \\sin{\\left (a + x \\right )} + 2 b \\cos{\\left (a + x \\right )} - \\sin{\\left (a + x \\right )}\\right) e^{b x}$$"
      ],
      "text/plain": [
       "⎛ 2                                         ⎞  b⋅x\n",
       "⎝b ⋅sin(a + x) + 2⋅b⋅cos(a + x) - sin(a + x)⎠⋅ℯ   "
      ]
     },
     "execution_count": 24,
     "metadata": {},
     "output_type": "execute_result"
    }
   ],
   "source": [
    "diff(sin(x + a)*exp(b*x), x, 2)"
   ]
  },
  {
   "cell_type": "code",
   "execution_count": 25,
   "metadata": {},
   "outputs": [
    {
     "data": {
      "image/png": "[encoded data removed]",
      "text/latex": [
       "$$- a b \\sin{\\left (a x + b y \\right )}$$"
      ],
      "text/plain": [
       "-a⋅b⋅sin(a⋅x + b⋅y)"
      ]
     },
     "execution_count": 25,
     "metadata": {},
     "output_type": "execute_result"
    }
   ],
   "source": [
    "diff(sin(a*x + b*y), x, y)"
   ]
  },
  {
   "cell_type": "markdown",
   "metadata": {},
   "source": [
    "## Solving"
   ]
  },
  {
   "cell_type": "markdown",
   "metadata": {},
   "source": [
    "### Equations"
   ]
  },
  {
   "cell_type": "markdown",
   "metadata": {},
   "source": [
    "solveset solves equations and returns the set of solutions since there could be one, zero or multiple solutions for a given equation."
   ]
  },
  {
   "cell_type": "code",
   "execution_count": 26,
   "metadata": {
    "collapsed": true
   },
   "outputs": [],
   "source": [
    "from sympy import solveset, Eq, Q"
   ]
  },
  {
   "cell_type": "code",
   "execution_count": 27,
   "metadata": {},
   "outputs": [
    {
     "data": {
      "image/png": "[encoded data removed]",
      "text/latex": [
       "$$x^{2} + y = 2$$"
      ],
      "text/plain": [
       " 2        \n",
       "x  + y = 2"
      ]
     },
     "execution_count": 27,
     "metadata": {},
     "output_type": "execute_result"
    }
   ],
   "source": [
    "Eq(x**2 + y, 2)"
   ]
  },
  {
   "cell_type": "code",
   "execution_count": 28,
   "metadata": {},
   "outputs": [
    {
     "data": {
      "image/png": "[encoded data removed]",
      "text/latex": [
       "$$\\left\\{- \\sqrt{- y + 2}, \\sqrt{- y + 2}\\right\\}$$"
      ],
      "text/plain": [
       "⎧   ________    ________⎫\n",
       "⎨-╲╱ -y + 2 , ╲╱ -y + 2 ⎬\n",
       "⎩                       ⎭"
      ]
     },
     "execution_count": 28,
     "metadata": {},
     "output_type": "execute_result"
    }
   ],
   "source": [
    "solveset(Eq(x**2 + y, 2), x)"
   ]
  },
  {
   "cell_type": "code",
   "execution_count": 29,
   "metadata": {},
   "outputs": [
    {
     "data": {
      "image/png": "[encoded data removed]",
      "text/latex": [
       "$$b e^{- a x} = \\frac{1}{2}$$"
      ],
      "text/plain": [
       "   -a⋅x      \n",
       "b⋅ℯ     = 1/2"
      ]
     },
     "execution_count": 29,
     "metadata": {},
     "output_type": "execute_result"
    }
   ],
   "source": [
    "halflife_equation = Eq(b*exp(-a*x), S(1)/2)\n",
    "halflife_equation"
   ]
  },
  {
   "cell_type": "code",
   "execution_count": 30,
   "metadata": {},
   "outputs": [
    {
     "data": {
      "image/png": "[encoded data removed]",
      "text/latex": [
       "$$\\left\\{\\frac{1}{a} \\left(i \\left(2 n \\pi + \\arg{\\left (b \\right )}\\right) + \\log{\\left (2 \\left|{b}\\right| \\right )}\\right)\\; |\\; n \\in \\mathbb{Z}\\right\\}$$"
      ],
      "text/plain": [
       "⎧ⅈ⋅(2⋅n⋅π + arg(b)) + log(2⋅│b│)        ⎫\n",
       "⎨─────────────────────────────── | n ∊ ℤ⎬\n",
       "⎩               a                       ⎭"
      ]
     },
     "execution_count": 30,
     "metadata": {},
     "output_type": "execute_result"
    }
   ],
   "source": [
    "sln = solveset(halflife_equation, x); sln"
   ]
  },
  {
   "cell_type": "markdown",
   "metadata": {},
   "source": [
    "The solution to this equation is a function of the integers Z. ImageSet maps Z to a function."
   ]
  },
  {
   "cell_type": "code",
   "execution_count": 31,
   "metadata": {},
   "outputs": [
    {
     "data": {
      "text/plain": [
       "sympy.sets.fancysets.ImageSet"
      ]
     },
     "execution_count": 31,
     "metadata": {},
     "output_type": "execute_result"
    }
   ],
   "source": [
    "type(sln)"
   ]
  },
  {
   "cell_type": "markdown",
   "metadata": {},
   "source": [
    "We have access to the evaluated function through \"lamda\" (note spelling)."
   ]
  },
  {
   "cell_type": "code",
   "execution_count": 32,
   "metadata": {},
   "outputs": [
    {
     "data": {
      "image/png": "[encoded data removed]",
      "text/latex": [
       "$$\\frac{1}{a} \\left(\\log{\\left (2 \\left|{b}\\right| \\right )} + i \\arg{\\left (b \\right )}\\right)$$"
      ],
      "text/plain": [
       "log(2⋅│b│) + ⅈ⋅arg(b)\n",
       "─────────────────────\n",
       "          a          "
      ]
     },
     "execution_count": 32,
     "metadata": {},
     "output_type": "execute_result"
    }
   ],
   "source": [
    "sln.lamda(0)"
   ]
  },
  {
   "cell_type": "markdown",
   "metadata": {},
   "source": [
    "### Ordinary differential equations"
   ]
  },
  {
   "cell_type": "code",
   "execution_count": 33,
   "metadata": {
    "collapsed": true
   },
   "outputs": [],
   "source": [
    "from sympy import dsolve, Function, Derivative"
   ]
  },
  {
   "cell_type": "markdown",
   "metadata": {},
   "source": [
    "Declaring a variable as function allows to treat symbolic derivates."
   ]
  },
  {
   "cell_type": "code",
   "execution_count": 34,
   "metadata": {
    "collapsed": true
   },
   "outputs": [],
   "source": [
    "f = Function(\"f\")\n",
    "g = Function(\"g\")"
   ]
  },
  {
   "cell_type": "code",
   "execution_count": 35,
   "metadata": {},
   "outputs": [
    {
     "data": {
      "image/png": "[encoded data removed]",
      "text/latex": [
       "$$\\frac{d}{d x} f{\\left (x \\right )} = 0$$"
      ],
      "text/plain": [
       "d           \n",
       "──(f(x)) = 0\n",
       "dx          "
      ]
     },
     "execution_count": 35,
     "metadata": {},
     "output_type": "execute_result"
    }
   ],
   "source": [
    "Eq(f(x).diff(x), 0)"
   ]
  },
  {
   "cell_type": "code",
   "execution_count": 36,
   "metadata": {},
   "outputs": [
    {
     "data": {
      "image/png": "[encoded data removed]",
      "text/latex": [
       "$$f{\\left (x \\right )} = C_{1}$$"
      ],
      "text/plain": [
       "f(x) = C₁"
      ]
     },
     "execution_count": 36,
     "metadata": {},
     "output_type": "execute_result"
    }
   ],
   "source": [
    "dsolve(Eq(f(x).diff(x), 0), f(x))"
   ]
  },
  {
   "cell_type": "markdown",
   "metadata": {},
   "source": [
    "Let's solve the differential equation for a harmonic oscillation with damping."
   ]
  },
  {
   "cell_type": "code",
   "execution_count": 37,
   "metadata": {},
   "outputs": [
    {
     "data": {
      "image/png": "[encoded data removed]",
      "text/latex": [
       "$$a \\frac{d}{d x} f{\\left (x \\right )} + \\frac{b^{2}}{2} f{\\left (x \\right )} + \\frac{1}{2} \\frac{d^{2}}{d x^{2}}  f{\\left (x \\right )} = 0$$"
      ],
      "text/plain": [
       "                         2          \n",
       "                        d           \n",
       "                       ───(f(x))    \n",
       "              2          2          \n",
       "  d          b ⋅f(x)   dx           \n",
       "a⋅──(f(x)) + ─────── + ───────── = 0\n",
       "  dx            2          2        "
      ]
     },
     "execution_count": 37,
     "metadata": {},
     "output_type": "execute_result"
    }
   ],
   "source": [
    "diffeq = Eq(f(x).diff(x, 2)/2 + a*f(x).diff(x) + b**2/2*f(x), 0); diffeq"
   ]
  },
  {
   "cell_type": "code",
   "execution_count": 38,
   "metadata": {},
   "outputs": [
    {
     "data": {
      "image/png": "[encoded data removed]",
      "text/latex": [
       "$$f{\\left (x \\right )} = C_{1} e^{x \\left(- a - \\sqrt{a^{2} - b^{2}}\\right)} + C_{2} e^{x \\left(- a + \\sqrt{a^{2} - b^{2}}\\right)}$$"
      ],
      "text/plain": [
       "             ⎛        _________⎞         ⎛        _________⎞\n",
       "             ⎜       ╱  2    2 ⎟         ⎜       ╱  2    2 ⎟\n",
       "           x⋅⎝-a - ╲╱  a  - b  ⎠       x⋅⎝-a + ╲╱  a  - b  ⎠\n",
       "f(x) = C₁⋅ℯ                      + C₂⋅ℯ                     "
      ]
     },
     "execution_count": 38,
     "metadata": {},
     "output_type": "execute_result"
    }
   ],
   "source": [
    "result= dsolve(diffeq, f(x)); result"
   ]
  },
  {
   "cell_type": "markdown",
   "metadata": {},
   "source": [
    "We can also use another function in the differential equation."
   ]
  },
  {
   "cell_type": "code",
   "execution_count": 39,
   "metadata": {},
   "outputs": [
    {
     "data": {
      "image/png": "[encoded data removed]",
      "text/latex": [
       "$$a \\frac{d}{d x} f{\\left (x \\right )} + \\frac{b^{2}}{2} f{\\left (x \\right )} + \\frac{1}{2} \\frac{d^{2}}{d x^{2}}  f{\\left (x \\right )} = g{\\left (x \\right )}$$"
      ],
      "text/plain": [
       "                         2             \n",
       "                        d              \n",
       "                       ───(f(x))       \n",
       "              2          2             \n",
       "  d          b ⋅f(x)   dx              \n",
       "a⋅──(f(x)) + ─────── + ───────── = g(x)\n",
       "  dx            2          2           "
      ]
     },
     "execution_count": 39,
     "metadata": {},
     "output_type": "execute_result"
    }
   ],
   "source": [
    "diffeq_driven = Eq(f(x).diff(x, 2)/2 + a*f(x).diff(x) + b**2/2*f(x), g(x))\n",
    "diffeq_driven"
   ]
  },
  {
   "cell_type": "code",
   "execution_count": 40,
   "metadata": {},
   "outputs": [
    {
     "data": {
      "image/png": "[encoded data removed]",
      "text/latex": [
       "$$f{\\left (x \\right )} = C_{1} e^{x \\left(- a - \\sqrt{a^{2} - b^{2}}\\right)} + C_{2} e^{x \\left(- a + \\sqrt{a^{2} - b^{2}}\\right)} - \\frac{1}{\\sqrt{a^{2} - b^{2}}} e^{x \\left(- a - \\sqrt{a^{2} - b^{2}}\\right)} \\int g{\\left (x \\right )} e^{a x} e^{x \\sqrt{a^{2} - b^{2}}}\\, dx + \\frac{1}{\\sqrt{a^{2} - b^{2}}} e^{x \\left(- a + \\sqrt{a^{2} - b^{2}}\\right)} \\int g{\\left (x \\right )} e^{a x} e^{- x \\sqrt{a^{2} - b^{2}}}\\, dx$$"
      ],
      "text/plain": [
       "                                                                              \n",
       "                                                                  ⎛        ___\n",
       "                                                                  ⎜       ╱  2\n",
       "             ⎛        _________⎞         ⎛        _________⎞    x⋅⎝-a - ╲╱  a \n",
       "             ⎜       ╱  2    2 ⎟         ⎜       ╱  2    2 ⎟   ℯ              \n",
       "           x⋅⎝-a - ╲╱  a  - b  ⎠       x⋅⎝-a + ╲╱  a  - b  ⎠                  \n",
       "f(x) = C₁⋅ℯ                      + C₂⋅ℯ                      - ───────────────\n",
       "                                                                              \n",
       "                                                                              \n",
       "                                                                              \n",
       "\n",
       "        ⌠                                                       ⌠             \n",
       "______⎞ ⎮                 _________         ⎛        _________⎞ ⎮             \n",
       "    2 ⎟ ⎮                ╱  2    2          ⎜       ╱  2    2 ⎟ ⎮             \n",
       " - b  ⎠ ⎮       a⋅x  x⋅╲╱  a  - b         x⋅⎝-a + ╲╱  a  - b  ⎠ ⎮       a⋅x  -\n",
       "       ⋅⎮ g(x)⋅ℯ   ⋅ℯ               dx   ℯ                     ⋅⎮ g(x)⋅ℯ   ⋅ℯ \n",
       "        ⌡                                                       ⌡             \n",
       "────────────────────────────────────── + ─────────────────────────────────────\n",
       "         _________                                               _________    \n",
       "        ╱  2    2                                               ╱  2    2     \n",
       "      ╲╱  a  - b                                              ╲╱  a  - b      \n",
       "\n",
       "                 \n",
       "     _________   \n",
       "    ╱  2    2    \n",
       "x⋅╲╱  a  - b     \n",
       "               dx\n",
       "                 \n",
       "─────────────────\n",
       "                 \n",
       "                 \n",
       "                 "
      ]
     },
     "execution_count": 40,
     "metadata": {},
     "output_type": "execute_result"
    }
   ],
   "source": [
    "result_driven = dsolve(diffeq_driven, f(x)); result_driven"
   ]
  },
  {
   "cell_type": "markdown",
   "metadata": {},
   "source": [
    "## Rewriting"
   ]
  },
  {
   "cell_type": "markdown",
   "metadata": {},
   "source": [
    "### Common subexpressions\n",
    "Common subexpressions allow to simplify complex expressions."
   ]
  },
  {
   "cell_type": "code",
   "execution_count": 41,
   "metadata": {
    "collapsed": true
   },
   "outputs": [],
   "source": [
    "from sympy import cse, simplify, expand, expand_trig, expand_complex, expand_power_exp, expand_func"
   ]
  },
  {
   "cell_type": "code",
   "execution_count": 42,
   "metadata": {},
   "outputs": [
    {
     "data": {
      "image/png": "[encoded data removed]",
      "text/latex": [
       "$$\\left ( \\left [ \\left ( x_{0}, \\quad - a\\right ), \\quad \\left ( x_{1}, \\quad \\sqrt{a^{2} - b^{2}}\\right )\\right ], \\quad \\left [ f{\\left (x \\right )} = C_{1} e^{x \\left(x_{0} - x_{1}\\right)} + C_{2} e^{x \\left(x_{0} + x_{1}\\right)}\\right ]\\right )$$"
      ],
      "text/plain": [
       "⎛⎡          ⎛       _________⎞⎤                                            ⎞\n",
       "⎜⎢          ⎜      ╱  2    2 ⎟⎥  ⎡           x⋅(x₀ - x₁)       x⋅(x₀ + x₁)⎤⎟\n",
       "⎝⎣(x₀, -a), ⎝x₁, ╲╱  a  - b  ⎠⎦, ⎣f(x) = C₁⋅ℯ            + C₂⋅ℯ           ⎦⎠"
      ]
     },
     "execution_count": 42,
     "metadata": {},
     "output_type": "execute_result"
    }
   ],
   "source": [
    "cse(result)"
   ]
  },
  {
   "cell_type": "code",
   "execution_count": 43,
   "metadata": {},
   "outputs": [
    {
     "data": {
      "image/png": "[encoded data removed]",
      "text/latex": [
       "$$\\left ( \\left [ \\left ( x_{0}, \\quad - a\\right ), \\quad \\left ( x_{1}, \\quad \\sqrt{a^{2} - b^{2}}\\right ), \\quad \\left ( x_{2}, \\quad e^{x \\left(x_{0} + x_{1}\\right)}\\right ), \\quad \\left ( x_{3}, \\quad e^{x \\left(x_{0} - x_{1}\\right)}\\right ), \\quad \\left ( x_{4}, \\quad \\frac{1}{x_{1}}\\right ), \\quad \\left ( x_{5}, \\quad g{\\left (x \\right )} e^{a x}\\right ), \\quad \\left ( x_{6}, \\quad x x_{1}\\right )\\right ], \\quad \\left [ f{\\left (x \\right )} = C_{1} x_{3} + C_{2} x_{2} + x_{2} x_{4} \\int x_{5} e^{- x_{6}}\\, dx - x_{3} x_{4} \\int x_{5} e^{x_{6}}\\, dx\\right ]\\right )$$"
      ],
      "text/plain": [
       "⎛⎡          ⎛       _________⎞                                                \n",
       "⎜⎢          ⎜      ╱  2    2 ⎟  ⎛     x⋅(x₀ + x₁)⎞  ⎛     x⋅(x₀ - x₁)⎞  ⎛    1\n",
       "⎜⎢(x₀, -a), ⎝x₁, ╲╱  a  - b  ⎠, ⎝x₂, ℯ           ⎠, ⎝x₃, ℯ           ⎠, ⎜x₄, ─\n",
       "⎝⎣                                                                      ⎝    x\n",
       "\n",
       "                               ⎤  ⎡                             ⌠             \n",
       " ⎞  ⎛          a⋅x⎞            ⎥  ⎢                             ⎮     -x₆     \n",
       "─⎟, ⎝x₅, g(x)⋅ℯ   ⎠, (x₆, x⋅x₁)⎥, ⎢f(x) = C₁⋅x₃ + C₂⋅x₂ + x₂⋅x₄⋅⎮ x₅⋅ℯ    dx -\n",
       "₁⎠                             ⎦  ⎣                             ⌡             \n",
       "\n",
       "       ⌠          ⎤⎞\n",
       "       ⎮     x₆   ⎥⎟\n",
       " x₃⋅x₄⋅⎮ x₅⋅ℯ   dx⎥⎟\n",
       "       ⌡          ⎦⎠"
      ]
     },
     "execution_count": 43,
     "metadata": {},
     "output_type": "execute_result"
    }
   ],
   "source": [
    "cse(result_driven)"
   ]
  },
  {
   "cell_type": "markdown",
   "metadata": {},
   "source": [
    "### Substitution\n",
    "We can subsitute symbols for numerical values or other symbolic expressions."
   ]
  },
  {
   "cell_type": "code",
   "execution_count": 44,
   "metadata": {},
   "outputs": [
    {
     "data": {
      "image/png": "[encoded data removed]",
      "text/latex": [
       "$$f{\\left (x \\right )} = C_{1} e^{x \\left(- a - \\sqrt{a^{2} - b^{2}}\\right)} + C_{2} e^{x \\left(- a + \\sqrt{a^{2} - b^{2}}\\right)}$$"
      ],
      "text/plain": [
       "             ⎛        _________⎞         ⎛        _________⎞\n",
       "             ⎜       ╱  2    2 ⎟         ⎜       ╱  2    2 ⎟\n",
       "           x⋅⎝-a - ╲╱  a  - b  ⎠       x⋅⎝-a + ╲╱  a  - b  ⎠\n",
       "f(x) = C₁⋅ℯ                      + C₂⋅ℯ                     "
      ]
     },
     "execution_count": 44,
     "metadata": {},
     "output_type": "execute_result"
    }
   ],
   "source": [
    "result"
   ]
  },
  {
   "cell_type": "code",
   "execution_count": 45,
   "metadata": {},
   "outputs": [
    {
     "data": {
      "image/png": "[encoded data removed]",
      "text/latex": [
       "$$f{\\left (x \\right )} = C_{1} e^{- i x \\left|{b}\\right|} + C_{2} e^{i x \\left|{b}\\right|}$$"
      ],
      "text/plain": [
       "           -ⅈ⋅x⋅│b│       ⅈ⋅x⋅│b│\n",
       "f(x) = C₁⋅ℯ         + C₂⋅ℯ       "
      ]
     },
     "execution_count": 45,
     "metadata": {},
     "output_type": "execute_result"
    }
   ],
   "source": [
    "result.subs(a, 0)"
   ]
  },
  {
   "cell_type": "code",
   "execution_count": 46,
   "metadata": {
    "collapsed": true
   },
   "outputs": [],
   "source": [
    "mx, my, mz, tx, ty, tz = symbols(\"m_x m_y m_z t_x t_y t_z\")"
   ]
  },
  {
   "cell_type": "code",
   "execution_count": 47,
   "metadata": {
    "collapsed": true
   },
   "outputs": [],
   "source": [
    "terms = 2*(x*my - y*mx)"
   ]
  },
  {
   "cell_type": "code",
   "execution_count": 48,
   "metadata": {},
   "outputs": [
    {
     "data": {
      "image/png": "[encoded data removed]",
      "text/latex": [
       "$$2 t_{x}$$"
      ],
      "text/plain": [
       "2⋅tₓ"
      ]
     },
     "execution_count": 48,
     "metadata": {},
     "output_type": "execute_result"
    }
   ],
   "source": [
    "terms.subs(x*my, tx+y*mx)"
   ]
  },
  {
   "cell_type": "markdown",
   "metadata": {},
   "source": [
    "### Simplify, expand"
   ]
  },
  {
   "cell_type": "code",
   "execution_count": 49,
   "metadata": {},
   "outputs": [
    {
     "data": {
      "image/png": "[encoded data removed]",
      "text/latex": [
       "$$\\sin^{2}{\\left (x \\right )} + \\cos^{2}{\\left (x \\right )}$$"
      ],
      "text/plain": [
       "   2         2   \n",
       "sin (x) + cos (x)"
      ]
     },
     "execution_count": 49,
     "metadata": {},
     "output_type": "execute_result"
    }
   ],
   "source": [
    "sin(x)**2 + cos(x)**2"
   ]
  },
  {
   "cell_type": "code",
   "execution_count": 50,
   "metadata": {},
   "outputs": [
    {
     "data": {
      "image/png": "[encoded data removed]",
      "text/latex": [
       "$$1$$"
      ],
      "text/plain": [
       "1"
      ]
     },
     "execution_count": 50,
     "metadata": {},
     "output_type": "execute_result"
    }
   ],
   "source": [
    "simplify(sin(x)**2 + cos(x)**2)"
   ]
  },
  {
   "cell_type": "code",
   "execution_count": 51,
   "metadata": {},
   "outputs": [
    {
     "data": {
      "image/png": "[encoded data removed]",
      "text/latex": [
       "$$\\sin{\\left (x \\right )} \\cos{\\left (y \\right )} + \\sin{\\left (y \\right )} \\cos{\\left (x \\right )}$$"
      ],
      "text/plain": [
       "sin(x)⋅cos(y) + sin(y)⋅cos(x)"
      ]
     },
     "execution_count": 51,
     "metadata": {},
     "output_type": "execute_result"
    }
   ],
   "source": [
    "expand_trig(sin(x+y))"
   ]
  },
  {
   "cell_type": "markdown",
   "metadata": {},
   "source": [
    "## Vectors and matrices"
   ]
  },
  {
   "cell_type": "markdown",
   "metadata": {},
   "source": [
    "### Matrix and MatrixSymbol"
   ]
  },
  {
   "cell_type": "code",
   "execution_count": 52,
   "metadata": {
    "collapsed": true
   },
   "outputs": [],
   "source": [
    "from sympy import Matrix, MatrixSymbol"
   ]
  },
  {
   "cell_type": "markdown",
   "metadata": {},
   "source": [
    "A matrix can be explicitly constructed:"
   ]
  },
  {
   "cell_type": "code",
   "execution_count": 53,
   "metadata": {},
   "outputs": [
    {
     "data": {
      "image/png": "[encoded data removed]",
      "text/latex": [
       "$$\\left[\\begin{matrix}a & b\\\\- b & a\\end{matrix}\\right]$$"
      ],
      "text/plain": [
       "⎡a   b⎤\n",
       "⎢     ⎥\n",
       "⎣-b  a⎦"
      ]
     },
     "execution_count": 53,
     "metadata": {},
     "output_type": "execute_result"
    }
   ],
   "source": [
    "X = Matrix([[a, b], [-b, a]]); X"
   ]
  },
  {
   "cell_type": "markdown",
   "metadata": {},
   "source": [
    "Functions of matrices are available:"
   ]
  },
  {
   "cell_type": "code",
   "execution_count": 54,
   "metadata": {},
   "outputs": [
    {
     "data": {
      "image/png": "[encoded data removed]",
      "text/latex": [
       "$$\\left[\\begin{matrix}a & - b\\\\b & a\\end{matrix}\\right]$$"
      ],
      "text/plain": [
       "⎡a  -b⎤\n",
       "⎢     ⎥\n",
       "⎣b  a ⎦"
      ]
     },
     "execution_count": 54,
     "metadata": {},
     "output_type": "execute_result"
    }
   ],
   "source": [
    "X.T"
   ]
  },
  {
   "cell_type": "code",
   "execution_count": 55,
   "metadata": {},
   "outputs": [
    {
     "data": {
      "image/png": "[encoded data removed]",
      "text/latex": [
       "$$\\left ( a^{2} + b^{2}, \\quad 2 a\\right )$$"
      ],
      "text/plain": [
       "⎛ 2    2     ⎞\n",
       "⎝a  + b , 2⋅a⎠"
      ]
     },
     "execution_count": 55,
     "metadata": {},
     "output_type": "execute_result"
    }
   ],
   "source": [
    "X.det(), X.trace()"
   ]
  },
  {
   "cell_type": "code",
   "execution_count": 56,
   "metadata": {},
   "outputs": [
    {
     "data": {
      "image/png": "[encoded data removed]",
      "text/latex": [
       "$$\\left[\\begin{matrix}\\frac{a}{a^{2} + b^{2}} & - \\frac{b}{a^{2} + b^{2}}\\\\\\frac{b}{a^{2} + b^{2}} & \\frac{a}{a^{2} + b^{2}}\\end{matrix}\\right]$$"
      ],
      "text/plain": [
       "⎡   a       -b   ⎤\n",
       "⎢───────  ───────⎥\n",
       "⎢ 2    2   2    2⎥\n",
       "⎢a  + b   a  + b ⎥\n",
       "⎢                ⎥\n",
       "⎢   b        a   ⎥\n",
       "⎢───────  ───────⎥\n",
       "⎢ 2    2   2    2⎥\n",
       "⎣a  + b   a  + b ⎦"
      ]
     },
     "execution_count": 56,
     "metadata": {},
     "output_type": "execute_result"
    }
   ],
   "source": [
    "simplify(X.inv())"
   ]
  },
  {
   "cell_type": "code",
   "execution_count": 57,
   "metadata": {},
   "outputs": [
    {
     "data": {
      "image/png": "[encoded data removed]",
      "text/latex": [
       "$$\\left[\\begin{matrix}a & - b\\\\b & a\\end{matrix}\\right]$$"
      ],
      "text/plain": [
       "⎡a  -b⎤\n",
       "⎢     ⎥\n",
       "⎣b  a ⎦"
      ]
     },
     "execution_count": 57,
     "metadata": {},
     "output_type": "execute_result"
    }
   ],
   "source": [
    "simplify(X.inv() * X.det())"
   ]
  },
  {
   "cell_type": "code",
   "execution_count": 58,
   "metadata": {},
   "outputs": [
    {
     "data": {
      "image/png": "[encoded data removed]",
      "text/latex": [
       "$$\\left \\{ a - i b : 1, \\quad a + i b : 1\\right \\}$$"
      ],
      "text/plain": [
       "{a - ⅈ⋅b: 1, a + ⅈ⋅b: 1}"
      ]
     },
     "execution_count": 58,
     "metadata": {},
     "output_type": "execute_result"
    }
   ],
   "source": [
    "X.eigenvals()"
   ]
  },
  {
   "cell_type": "code",
   "execution_count": 59,
   "metadata": {},
   "outputs": [
    {
     "data": {
      "image/png": "[encoded data removed]",
      "text/latex": [
       "$$\\left [ \\left ( a - i b, \\quad 1, \\quad \\left [ \\left[\\begin{matrix}i\\\\1\\end{matrix}\\right]\\right ]\\right ), \\quad \\left ( a + i b, \\quad 1, \\quad \\left [ \\left[\\begin{matrix}- i\\\\1\\end{matrix}\\right]\\right ]\\right )\\right ]$$"
      ],
      "text/plain": [
       "⎡⎛a - ⅈ⋅b, 1, ⎡⎡ⅈ⎤⎤⎞, ⎛a + ⅈ⋅b, 1, ⎡⎡-ⅈ⎤⎤⎞⎤\n",
       "⎢⎜            ⎢⎢ ⎥⎥⎟  ⎜            ⎢⎢  ⎥⎥⎟⎥\n",
       "⎣⎝            ⎣⎣1⎦⎦⎠  ⎝            ⎣⎣1 ⎦⎦⎠⎦"
      ]
     },
     "execution_count": 59,
     "metadata": {},
     "output_type": "execute_result"
    }
   ],
   "source": [
    "X.eigenvects()"
   ]
  },
  {
   "cell_type": "code",
   "execution_count": 60,
   "metadata": {},
   "outputs": [
    {
     "data": {
      "image/png": "[encoded data removed]",
      "text/latex": [
       "$$\\left ( \\left[\\begin{matrix}i & - i\\\\1 & 1\\end{matrix}\\right], \\quad \\left[\\begin{matrix}a - i b & 0\\\\0 & a + i b\\end{matrix}\\right]\\right )$$"
      ],
      "text/plain": [
       "⎛⎡ⅈ  -ⅈ⎤, ⎡a - ⅈ⋅b     0   ⎤⎞\n",
       "⎜⎢     ⎥  ⎢                ⎥⎟\n",
       "⎝⎣1  1 ⎦  ⎣   0     a + ⅈ⋅b⎦⎠"
      ]
     },
     "execution_count": 60,
     "metadata": {},
     "output_type": "execute_result"
    }
   ],
   "source": [
    "X.diagonalize()"
   ]
  },
  {
   "cell_type": "markdown",
   "metadata": {},
   "source": [
    "Matrix multiplication works directly. The dot function is less strict about the dimensions of the vector on the right hand side."
   ]
  },
  {
   "cell_type": "code",
   "execution_count": 61,
   "metadata": {
    "collapsed": true
   },
   "outputs": [],
   "source": [
    "Y = Matrix([[0, -c],[c, 0]])"
   ]
  },
  {
   "cell_type": "code",
   "execution_count": 62,
   "metadata": {},
   "outputs": [
    {
     "data": {
      "image/png": "[encoded data removed]",
      "text/latex": [
       "$$\\left[\\begin{matrix}b c & - a c\\\\a c & b c\\end{matrix}\\right]$$"
      ],
      "text/plain": [
       "⎡b⋅c  -a⋅c⎤\n",
       "⎢         ⎥\n",
       "⎣a⋅c  b⋅c ⎦"
      ]
     },
     "execution_count": 62,
     "metadata": {},
     "output_type": "execute_result"
    }
   ],
   "source": [
    "X*Y"
   ]
  },
  {
   "cell_type": "code",
   "execution_count": 63,
   "metadata": {},
   "outputs": [
    {
     "data": {
      "image/png": "[encoded data removed]",
      "text/latex": [
       "$$\\left [ b c, \\quad a c, \\quad - a c, \\quad b c\\right ]$$"
      ],
      "text/plain": [
       "[b⋅c, a⋅c, -a⋅c, b⋅c]"
      ]
     },
     "execution_count": 63,
     "metadata": {},
     "output_type": "execute_result"
    }
   ],
   "source": [
    "X.dot(Y)"
   ]
  },
  {
   "cell_type": "markdown",
   "metadata": {},
   "source": [
    "Special functions are available to construct matrices. Here: Construct a rotation matrix around the z-axis (3-axis) and apply it to a vector."
   ]
  },
  {
   "cell_type": "code",
   "execution_count": 64,
   "metadata": {},
   "outputs": [
    {
     "ename": "NameError",
     "evalue": "name 'rot_axis3' is not defined",
     "output_type": "error",
     "traceback": [
      "\u001b[0;31m---------------------------------------------------------------------------\u001b[0m",
      "\u001b[0;31mNameError\u001b[0m                                 Traceback (most recent call last)",
      "\u001b[0;32m<ipython-input-64-3948ccca6e90>\u001b[0m in \u001b[0;36m<module>\u001b[0;34m()\u001b[0m\n\u001b[0;32m----> 1\u001b[0;31m \u001b[0mrot_axis3\u001b[0m\u001b[0;34m(\u001b[0m\u001b[0ma\u001b[0m\u001b[0;34m)\u001b[0m\u001b[0;34m*\u001b[0m\u001b[0mMatrix\u001b[0m\u001b[0;34m(\u001b[0m\u001b[0;34m[\u001b[0m\u001b[0mx\u001b[0m\u001b[0;34m,\u001b[0m\u001b[0my\u001b[0m\u001b[0;34m,\u001b[0m\u001b[0mz\u001b[0m\u001b[0;34m]\u001b[0m\u001b[0;34m)\u001b[0m\u001b[0;34m\u001b[0m\u001b[0m\n\u001b[0m",
      "\u001b[0;31mNameError\u001b[0m: name 'rot_axis3' is not defined"
     ]
    }
   ],
   "source": [
    "rot_axis3(a)*Matrix([x,y,z])"
   ]
  },
  {
   "cell_type": "markdown",
   "metadata": {},
   "source": [
    "### Vector - reference to a coordinate system\n",
    "\n",
    "Note: In sympy 1.1, use CoordSys3D instead of CoordSysCartesian."
   ]
  },
  {
   "cell_type": "code",
   "execution_count": null,
   "metadata": {
    "collapsed": true
   },
   "outputs": [],
   "source": [
    "from sympy import rot_axis3"
   ]
  },
  {
   "cell_type": "code",
   "execution_count": null,
   "metadata": {
    "collapsed": true
   },
   "outputs": [],
   "source": [
    "from sympy.vector import CoordSysCartesian, Del"
   ]
  },
  {
   "cell_type": "code",
   "execution_count": null,
   "metadata": {
    "collapsed": true
   },
   "outputs": [],
   "source": [
    "C = CoordSysCartesian(\"C\")"
   ]
  },
  {
   "cell_type": "markdown",
   "metadata": {},
   "source": [
    "We have access to the basis vector i, j, k of the coordinate system:"
   ]
  },
  {
   "cell_type": "code",
   "execution_count": null,
   "metadata": {},
   "outputs": [],
   "source": [
    "v1 = a*C.i + b*C.j + 5*C.k\n",
    "v1"
   ]
  },
  {
   "cell_type": "markdown",
   "metadata": {},
   "source": [
    "Dot and cross product between vectors:"
   ]
  },
  {
   "cell_type": "code",
   "execution_count": null,
   "metadata": {},
   "outputs": [],
   "source": [
    "v2 = x*C.i + 2*C.k\n",
    "v1.dot(v2), v1.cross(v2)"
   ]
  },
  {
   "cell_type": "markdown",
   "metadata": {},
   "source": [
    "For vector fields, we can also access the coordinate vectors x, y, z:"
   ]
  },
  {
   "cell_type": "code",
   "execution_count": null,
   "metadata": {
    "collapsed": true
   },
   "outputs": [],
   "source": [
    "field = sin(C.x**2) * C.y"
   ]
  },
  {
   "cell_type": "code",
   "execution_count": null,
   "metadata": {},
   "outputs": [],
   "source": [
    "delop = Del(C)\n",
    "delop(field)"
   ]
  },
  {
   "cell_type": "code",
   "execution_count": null,
   "metadata": {},
   "outputs": [],
   "source": [
    "delop(field).doit()"
   ]
  },
  {
   "cell_type": "code",
   "execution_count": null,
   "metadata": {
    "collapsed": true
   },
   "outputs": [],
   "source": []
  }
 ],
 "metadata": {
  "anaconda-cloud": {},
  "kernelspec": {
   "display_name": "Python [conda env:mlnew2]",
   "language": "python",
   "name": "conda-env-mlnew2-py"
  },
  "language_info": {
   "codemirror_mode": {
    "name": "ipython",
    "version": 3
   },
   "file_extension": ".py",
   "mimetype": "text/x-python",
   "name": "python",
   "nbconvert_exporter": "python",
   "pygments_lexer": "ipython3",
   "version": "3.5.3"
  }
 },
 "nbformat": 4,
 "nbformat_minor": 2
}
